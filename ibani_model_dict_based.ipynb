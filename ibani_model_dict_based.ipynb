{
 "cells": [
  {
   "cell_type": "code",
   "execution_count": 1,
   "id": "723c028a-27a3-4c57-86ea-6d65d38ab355",
   "metadata": {},
   "outputs": [],
   "source": [
    "import pandas as pd\n",
    "import re, unicodedata"
   ]
  },
  {
   "cell_type": "code",
   "execution_count": 2,
   "id": "2772be99-3ba2-486a-8978-d51c83f82642",
   "metadata": {},
   "outputs": [],
   "source": [
    "# Load extracted dictionary file\n",
    "df = pd.read_csv(\"ibani-extracted_text main.csv\")"
   ]
  },
  {
   "cell_type": "code",
   "execution_count": 3,
   "id": "acda73f5-e98c-4e1b-8bac-81c04456fbc5",
   "metadata": {},
   "outputs": [],
   "source": [
    "# Drop unnecessary columns\n",
    "if \"pos\" in df.columns:\n",
    "    df = df.drop(columns=[\"pos\"])"
   ]
  },
  {
   "cell_type": "code",
   "execution_count": 4,
   "id": "1518b197-2e27-4824-b621-e0b0d272433b",
   "metadata": {},
   "outputs": [],
   "source": [
    "# Drop missing rows\n",
    "df = df.dropna(subset=[\"headword\", \"gloss\"])"
   ]
  },
  {
   "cell_type": "code",
   "execution_count": 5,
   "id": "81029185-9e1f-465c-898a-9118c4866999",
   "metadata": {},
   "outputs": [],
   "source": [
    "# Cleaning function\n",
    "def clean_word(text):\n",
    "    text = unicodedata.normalize(\"NFKC\", str(text))   # normalize Unicode (accents, special forms)\n",
    "    text = re.sub(r\"[^a-zA-Z0-9À-ÿ\\s\\-]\", \" \", text) # keep only letters, numbers, spaces, hyphen\n",
    "    text = re.sub(r\"\\s+\", \" \", text)                 # collapse multiple spaces into one\n",
    "    return text.strip().lower()                      # remove extra spaces & lowercase"
   ]
  },
  {
   "cell_type": "code",
   "execution_count": 6,
   "id": "c257ad73-fca5-4ede-9d4f-fd49e4e3e9cf",
   "metadata": {},
   "outputs": [],
   "source": [
    "# Apply cleaning to columns\n",
    "df[\"headword\"] = df[\"headword\"].apply(clean_word)  # Ibani word\n",
    "df[\"gloss\"] = df[\"gloss\"].apply(clean_word)        # English gloss"
   ]
  },
  {
   "cell_type": "code",
   "execution_count": 7,
   "id": "30cb9f8e-0110-48f5-b953-1166c4839cb6",
   "metadata": {},
   "outputs": [
    {
     "name": "stdout",
     "output_type": "stream",
     "text": [
      "Dataset size: (2889, 2)\n"
     ]
    },
    {
     "data": {
      "text/html": [
       "<div>\n",
       "<style scoped>\n",
       "    .dataframe tbody tr th:only-of-type {\n",
       "        vertical-align: middle;\n",
       "    }\n",
       "\n",
       "    .dataframe tbody tr th {\n",
       "        vertical-align: top;\n",
       "    }\n",
       "\n",
       "    .dataframe thead th {\n",
       "        text-align: right;\n",
       "    }\n",
       "</style>\n",
       "<table border=\"1\" class=\"dataframe\">\n",
       "  <thead>\n",
       "    <tr style=\"text-align: right;\">\n",
       "      <th></th>\n",
       "      <th>headword</th>\n",
       "      <th>gloss</th>\n",
       "    </tr>\n",
       "  </thead>\n",
       "  <tbody>\n",
       "    <tr>\n",
       "      <th>1</th>\n",
       "      <td>a</td>\n",
       "      <td>i</td>\n",
       "    </tr>\n",
       "    <tr>\n",
       "      <th>2</th>\n",
       "      <td>á</td>\n",
       "      <td>she</td>\n",
       "    </tr>\n",
       "    <tr>\n",
       "      <th>3</th>\n",
       "      <td>áa</td>\n",
       "      <td>exclamation</td>\n",
       "    </tr>\n",
       "    <tr>\n",
       "      <th>4</th>\n",
       "      <td>aba</td>\n",
       "      <td>forked</td>\n",
       "    </tr>\n",
       "    <tr>\n",
       "      <th>5</th>\n",
       "      <td>aba</td>\n",
       "      <td>hammer-headed</td>\n",
       "    </tr>\n",
       "  </tbody>\n",
       "</table>\n",
       "</div>"
      ],
      "text/plain": [
       "  headword          gloss\n",
       "1        a              i\n",
       "2        á            she\n",
       "3       áa    exclamation\n",
       "4      aba         forked\n",
       "5      aba  hammer-headed"
      ]
     },
     "execution_count": 7,
     "metadata": {},
     "output_type": "execute_result"
    }
   ],
   "source": [
    "# Simplify gloss: keep only first English word\n",
    "df[\"gloss\"] = df[\"gloss\"].apply(lambda x: x.split()[0] if isinstance(x, str) else x)\n",
    "\n",
    "print(\"Dataset size:\", df.shape)\n",
    "df.head()"
   ]
  },
  {
   "cell_type": "code",
   "execution_count": 8,
   "id": "972892b0-cc4f-4861-b6d6-452bf8fdd8b6",
   "metadata": {},
   "outputs": [],
   "source": [
    "# Convert into dictionary mapping\n",
    "ibani_to_eng = dict(zip(df[\"headword\"], df[\"gloss\"]))"
   ]
  },
  {
   "cell_type": "code",
   "execution_count": 9,
   "id": "45332e41-c45d-4131-9b7c-6ff3de686e6d",
   "metadata": {},
   "outputs": [
    {
     "name": "stdout",
     "output_type": "stream",
     "text": [
      "bari → [Not found]\n",
      "ama → male\n"
     ]
    }
   ],
   "source": [
    "# Example lookups\n",
    "print(\"bari →\", ibani_to_eng.get(\"bari\", \"[Not found]\"))\n",
    "print(\"ama →\", ibani_to_eng.get(\"ama\", \"[Not found]\"))"
   ]
  },
  {
   "cell_type": "code",
   "execution_count": 10,
   "id": "f3c405e3-fe00-4692-9251-ad1f19e79e38",
   "metadata": {},
   "outputs": [
    {
     "name": "stdout",
     "output_type": "stream",
     "text": [
      "good → ['dede r á', 'ibiamíénye', 'ibi dúmá', 'ibi fúbárá', 'ibisuó', 'báámá']\n",
      "land → ['k r -ár']\n"
     ]
    }
   ],
   "source": [
    "from collections import defaultdict\n",
    "\n",
    "eng_to_ibani = defaultdict(list)\n",
    "\n",
    "for _, row in df.iterrows():\n",
    "    eng_to_ibani[row[\"gloss\"]].append(row[\"headword\"])\n",
    "\n",
    "# Example lookups\n",
    "print(\"good →\", eng_to_ibani.get(\"good\", [\"[Not found]\"]))\n",
    "print(\"land →\", eng_to_ibani.get(\"land\", [\"[Not found]\"]))\n"
   ]
  },
  {
   "cell_type": "code",
   "execution_count": 11,
   "id": "2a071135-7f08-4833-96e6-4ade160dd6c2",
   "metadata": {},
   "outputs": [
    {
     "name": "stdin",
     "output_type": "stream",
     "text": [
      "Enter a word (type 'quit' to stop):  aba\n"
     ]
    },
    {
     "name": "stdout",
     "output_type": "stream",
     "text": [
      "aba → hammer-headed\n"
     ]
    },
    {
     "name": "stdin",
     "output_type": "stream",
     "text": [
      "Enter a word (type 'quit' to stop):  man\n"
     ]
    },
    {
     "name": "stdout",
     "output_type": "stream",
     "text": [
      "man → ['ówítúw']\n"
     ]
    },
    {
     "name": "stdin",
     "output_type": "stream",
     "text": [
      "Enter a word (type 'quit' to stop):  girl\n"
     ]
    },
    {
     "name": "stdout",
     "output_type": "stream",
     "text": [
      "girl → ['amak gháa', 'ama l gháa', 'r ab', 'r anab', 'rùb túw']\n"
     ]
    },
    {
     "name": "stdin",
     "output_type": "stream",
     "text": [
      "Enter a word (type 'quit' to stop):  r ab\n"
     ]
    },
    {
     "name": "stdout",
     "output_type": "stream",
     "text": [
      "r ab → girl\n"
     ]
    },
    {
     "name": "stdin",
     "output_type": "stream",
     "text": [
      "Enter a word (type 'quit' to stop):  rub tuw\n"
     ]
    },
    {
     "name": "stdout",
     "output_type": "stream",
     "text": [
      "[Word not found in dictionary]\n"
     ]
    },
    {
     "ename": "KeyboardInterrupt",
     "evalue": "Interrupted by user",
     "output_type": "error",
     "traceback": [
      "\u001b[31m---------------------------------------------------------------------------\u001b[39m",
      "\u001b[31mKeyboardInterrupt\u001b[39m                         Traceback (most recent call last)",
      "\u001b[36mCell\u001b[39m\u001b[36m \u001b[39m\u001b[32mIn[11]\u001b[39m\u001b[32m, line 2\u001b[39m\n\u001b[32m      1\u001b[39m \u001b[38;5;28;01mwhile\u001b[39;00m \u001b[38;5;28;01mTrue\u001b[39;00m:\n\u001b[32m----> \u001b[39m\u001b[32m2\u001b[39m     word = \u001b[38;5;28;43minput\u001b[39;49m\u001b[43m(\u001b[49m\u001b[33;43m\"\u001b[39;49m\u001b[33;43mEnter a word (type \u001b[39;49m\u001b[33;43m'\u001b[39;49m\u001b[33;43mquit\u001b[39;49m\u001b[33;43m'\u001b[39;49m\u001b[33;43m to stop): \u001b[39;49m\u001b[33;43m\"\u001b[39;49m\u001b[43m)\u001b[49m.strip().lower()\n\u001b[32m      3\u001b[39m     \u001b[38;5;28;01mif\u001b[39;00m word == \u001b[33m\"\u001b[39m\u001b[33mquit\u001b[39m\u001b[33m\"\u001b[39m:\n\u001b[32m      4\u001b[39m         \u001b[38;5;28;01mbreak\u001b[39;00m\n",
      "\u001b[36mFile \u001b[39m\u001b[32m~\\AppData\\Local\\Programs\\Python\\Python311\\Lib\\site-packages\\ipykernel\\kernelbase.py:1275\u001b[39m, in \u001b[36mKernel.raw_input\u001b[39m\u001b[34m(self, prompt)\u001b[39m\n\u001b[32m   1273\u001b[39m     msg = \u001b[33m\"\u001b[39m\u001b[33mraw_input was called, but this frontend does not support input requests.\u001b[39m\u001b[33m\"\u001b[39m\n\u001b[32m   1274\u001b[39m     \u001b[38;5;28;01mraise\u001b[39;00m StdinNotImplementedError(msg)\n\u001b[32m-> \u001b[39m\u001b[32m1275\u001b[39m \u001b[38;5;28;01mreturn\u001b[39;00m \u001b[38;5;28;43mself\u001b[39;49m\u001b[43m.\u001b[49m\u001b[43m_input_request\u001b[49m\u001b[43m(\u001b[49m\n\u001b[32m   1276\u001b[39m \u001b[43m    \u001b[49m\u001b[38;5;28;43mstr\u001b[39;49m\u001b[43m(\u001b[49m\u001b[43mprompt\u001b[49m\u001b[43m)\u001b[49m\u001b[43m,\u001b[49m\n\u001b[32m   1277\u001b[39m \u001b[43m    \u001b[49m\u001b[38;5;28;43mself\u001b[39;49m\u001b[43m.\u001b[49m\u001b[43m_parent_ident\u001b[49m\u001b[43m[\u001b[49m\u001b[33;43m\"\u001b[39;49m\u001b[33;43mshell\u001b[39;49m\u001b[33;43m\"\u001b[39;49m\u001b[43m]\u001b[49m\u001b[43m,\u001b[49m\n\u001b[32m   1278\u001b[39m \u001b[43m    \u001b[49m\u001b[38;5;28;43mself\u001b[39;49m\u001b[43m.\u001b[49m\u001b[43mget_parent\u001b[49m\u001b[43m(\u001b[49m\u001b[33;43m\"\u001b[39;49m\u001b[33;43mshell\u001b[39;49m\u001b[33;43m\"\u001b[39;49m\u001b[43m)\u001b[49m\u001b[43m,\u001b[49m\n\u001b[32m   1279\u001b[39m \u001b[43m    \u001b[49m\u001b[43mpassword\u001b[49m\u001b[43m=\u001b[49m\u001b[38;5;28;43;01mFalse\u001b[39;49;00m\u001b[43m,\u001b[49m\n\u001b[32m   1280\u001b[39m \u001b[43m\u001b[49m\u001b[43m)\u001b[49m\n",
      "\u001b[36mFile \u001b[39m\u001b[32m~\\AppData\\Local\\Programs\\Python\\Python311\\Lib\\site-packages\\ipykernel\\kernelbase.py:1320\u001b[39m, in \u001b[36mKernel._input_request\u001b[39m\u001b[34m(self, prompt, ident, parent, password)\u001b[39m\n\u001b[32m   1317\u001b[39m \u001b[38;5;28;01mexcept\u001b[39;00m \u001b[38;5;167;01mKeyboardInterrupt\u001b[39;00m:\n\u001b[32m   1318\u001b[39m     \u001b[38;5;66;03m# re-raise KeyboardInterrupt, to truncate traceback\u001b[39;00m\n\u001b[32m   1319\u001b[39m     msg = \u001b[33m\"\u001b[39m\u001b[33mInterrupted by user\u001b[39m\u001b[33m\"\u001b[39m\n\u001b[32m-> \u001b[39m\u001b[32m1320\u001b[39m     \u001b[38;5;28;01mraise\u001b[39;00m \u001b[38;5;167;01mKeyboardInterrupt\u001b[39;00m(msg) \u001b[38;5;28;01mfrom\u001b[39;00m\u001b[38;5;250m \u001b[39m\u001b[38;5;28;01mNone\u001b[39;00m\n\u001b[32m   1321\u001b[39m \u001b[38;5;28;01mexcept\u001b[39;00m \u001b[38;5;167;01mException\u001b[39;00m:\n\u001b[32m   1322\u001b[39m     \u001b[38;5;28mself\u001b[39m.log.warning(\u001b[33m\"\u001b[39m\u001b[33mInvalid Message:\u001b[39m\u001b[33m\"\u001b[39m, exc_info=\u001b[38;5;28;01mTrue\u001b[39;00m)\n",
      "\u001b[31mKeyboardInterrupt\u001b[39m: Interrupted by user"
     ]
    }
   ],
   "source": [
    "while True:\n",
    "    word = input(\"Enter a word (type 'quit' to stop): \").strip().lower()\n",
    "    if word == \"quit\":\n",
    "        break\n",
    "    if word in ibani_to_eng:\n",
    "        print(word, \"→\", ibani_to_eng[word])        # Ibani → English\n",
    "    elif word in eng_to_ibani:\n",
    "        print(word, \"→\", eng_to_ibani[word])        # English → Ibani\n",
    "    else:\n",
    "        print(\"[Word not found in dictionary]\")\n"
   ]
  },
  {
   "cell_type": "code",
   "execution_count": null,
   "id": "44a2baa5-9ab9-4780-8790-295d4642baa4",
   "metadata": {},
   "outputs": [],
   "source": []
  }
 ],
 "metadata": {
  "kernelspec": {
   "display_name": "Python 3 (ipykernel)",
   "language": "python",
   "name": "python3"
  },
  "language_info": {
   "codemirror_mode": {
    "name": "ipython",
    "version": 3
   },
   "file_extension": ".py",
   "mimetype": "text/x-python",
   "name": "python",
   "nbconvert_exporter": "python",
   "pygments_lexer": "ipython3",
   "version": "3.11.9"
  }
 },
 "nbformat": 4,
 "nbformat_minor": 5
}
